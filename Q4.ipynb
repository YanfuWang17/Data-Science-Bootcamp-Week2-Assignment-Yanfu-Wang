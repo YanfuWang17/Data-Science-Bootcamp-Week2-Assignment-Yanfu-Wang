{
 "cells": [
  {
   "cell_type": "code",
   "execution_count": 17,
   "id": "6608a34d",
   "metadata": {},
   "outputs": [],
   "source": [
    "import numpy as np"
   ]
  },
  {
   "cell_type": "code",
   "execution_count": 18,
   "id": "1466b9cb",
   "metadata": {},
   "outputs": [
    {
     "name": "stdout",
     "output_type": "stream",
     "text": [
      "[[22 15 69 66]\n",
      " [69 49 61 27]\n",
      " [ 6  3 42 93]\n",
      " [ 4 13 39 93]]\n"
     ]
    }
   ],
   "source": [
    "X = np.random.randint(1,100, size=(4, 4))\n",
    "print(X)"
   ]
  },
  {
   "cell_type": "code",
   "execution_count": 19,
   "id": "a186b91e",
   "metadata": {},
   "outputs": [
    {
     "name": "stdout",
     "output_type": "stream",
     "text": [
      "[[22 15 69 66]\n",
      " [69 49 61 27]\n",
      " [ 6  3 42 93]\n",
      " [ 4 13 39 93]]\n",
      "[[22 69  6  4]\n",
      " [15 49  3 13]\n",
      " [69 61 42 39]\n",
      " [66 27 93 93]]\n"
     ]
    }
   ],
   "source": [
    "X_row = X.reshape(4,4)\n",
    "print(X_row) # No change, and this is for the following calculation of the sum of each rows.\n",
    "X_column = X.transpose()\n",
    "print(X_column)"
   ]
  },
  {
   "cell_type": "code",
   "execution_count": 26,
   "id": "834e338e",
   "metadata": {},
   "outputs": [
    {
     "name": "stdout",
     "output_type": "stream",
     "text": [
      "[101  80 211 279]\n",
      "[172 206 144 149]\n"
     ]
    }
   ],
   "source": [
    "# I have no idea about how to use lambda in numpy as apply function can not be used.\n",
    "print(X_row.sum(axis= 0))\n",
    "print(X_column.sum(axis = 0))"
   ]
  },
  {
   "cell_type": "code",
   "execution_count": null,
   "id": "fc86aece",
   "metadata": {},
   "outputs": [],
   "source": []
  }
 ],
 "metadata": {
  "kernelspec": {
   "display_name": "Python 3 (ipykernel)",
   "language": "python",
   "name": "python3"
  },
  "language_info": {
   "codemirror_mode": {
    "name": "ipython",
    "version": 3
   },
   "file_extension": ".py",
   "mimetype": "text/x-python",
   "name": "python",
   "nbconvert_exporter": "python",
   "pygments_lexer": "ipython3",
   "version": "3.9.13"
  }
 },
 "nbformat": 4,
 "nbformat_minor": 5
}

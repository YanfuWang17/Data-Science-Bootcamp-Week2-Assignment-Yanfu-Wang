{
 "cells": [
  {
   "cell_type": "code",
   "execution_count": 16,
   "id": "49ca2c40",
   "metadata": {},
   "outputs": [],
   "source": [
    "import numpy as np\n",
    "import pandas as pd"
   ]
  },
  {
   "cell_type": "code",
   "execution_count": 17,
   "id": "be083e94",
   "metadata": {},
   "outputs": [
    {
     "name": "stdout",
     "output_type": "stream",
     "text": [
      "    0   1   2   3\n",
      "0  13  27  26  20\n",
      "1  20  33  39  15\n",
      "2  30  35  36  25\n",
      "3  10  14  30  26\n",
      "4  29  38  22  37\n",
      "(15, 4)\n"
     ]
    }
   ],
   "source": [
    "df = pd.DataFrame(np.random.randint(10, 40, 60).reshape(-1, 4))\n",
    "print(df.head())\n",
    "print(df.shape)"
   ]
  },
  {
   "cell_type": "code",
   "execution_count": 18,
   "id": "5f592015",
   "metadata": {},
   "outputs": [
    {
     "name": "stdout",
     "output_type": "stream",
     "text": [
      "    0   1   2   3  sum\n",
      "0  13  27  26  20   86\n",
      "1  20  33  39  15  107\n",
      "2  30  35  36  25  126\n",
      "3  10  14  30  26   80\n",
      "4  29  38  22  37  126\n"
     ]
    }
   ],
   "source": [
    "df[\"sum\"] = df[0] + df[1] + df[2] + df[3]\n",
    "print(df.head())"
   ]
  },
  {
   "cell_type": "code",
   "execution_count": 19,
   "id": "e95a65cc",
   "metadata": {},
   "outputs": [
    {
     "name": "stdout",
     "output_type": "stream",
     "text": [
      "    0   1   2   3\n",
      "1  20  33  39  15\n",
      "2  30  35  36  25\n",
      "4  29  38  22  37\n",
      "5  22  32  35  14\n",
      "6  34  39  20  23\n"
     ]
    }
   ],
   "source": [
    "df_filter = df.iloc[[i for i in range(15) if df[\"sum\"][i] > 100],:]\n",
    "df = df_filter.drop([\"sum\"],axis = 1)\n",
    "print(df.head())"
   ]
  },
  {
   "cell_type": "code",
   "execution_count": null,
   "id": "eeba51ca",
   "metadata": {},
   "outputs": [],
   "source": []
  }
 ],
 "metadata": {
  "kernelspec": {
   "display_name": "Python 3 (ipykernel)",
   "language": "python",
   "name": "python3"
  },
  "language_info": {
   "codemirror_mode": {
    "name": "ipython",
    "version": 3
   },
   "file_extension": ".py",
   "mimetype": "text/x-python",
   "name": "python",
   "nbconvert_exporter": "python",
   "pygments_lexer": "ipython3",
   "version": "3.9.13"
  }
 },
 "nbformat": 4,
 "nbformat_minor": 5
}
